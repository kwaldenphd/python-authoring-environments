{
  "nbformat": 4,
  "nbformat_minor": 0,
  "metadata": {
    "colab": {
      "provenance": [],
      "toc_visible": true,
      "authorship_tag": "ABX9TyMSffC+6/zBWTi5qwZFfF8I",
      "include_colab_link": true
    },
    "kernelspec": {
      "name": "python3",
      "display_name": "Python 3"
    },
    "language_info": {
      "name": "python"
    }
  },
  "cells": [
    {
      "cell_type": "markdown",
      "metadata": {
        "id": "view-in-github",
        "colab_type": "text"
      },
      "source": [
        "<a href=\"https://colab.research.google.com/github/kwaldenphd/python-authoring-environments/blob/main/python_authoring_environments_lab_notebook_tempalte.ipynb\" target=\"_parent\"><img src=\"https://colab.research.google.com/assets/colab-badge.svg\" alt=\"Open In Colab\"/></a>"
      ]
    },
    {
      "cell_type": "markdown",
      "source": [
        "# Python Authoring Environments, Python & Jupyter Notebooks"
      ],
      "metadata": {
        "id": "7MzhNm9Tt6d3"
      }
    },
    {
      "cell_type": "markdown",
      "metadata": {
        "id": "ff876fb9"
      },
      "source": [
        "Student Name: **Enter Your Name Here (Double click to edit)**\n",
        "<br>\n",
        "Net ID: **Enter Your NetID Here (Double click to edit)**\n",
        "<br>"
      ]
    },
    {
      "cell_type": "markdown",
      "source": [
        "Moving forward, we're going to be submitting lab notebooks using the provide Jupyter Notebook template.\n",
        "- If working in JupyterLab (or another desktop IDE), download the `.ipynb` file to your local computer\n",
        "  * `File` - `Download` - `Download as .ipynb`\n",
        "- If working in Google Colaboratory, MAKE SURE you save a copy to your local drive. Otherwise your changes will not be saved.\n",
        "  * `File` - `Save a copy in Drive`\n",
        "\n",
        "The lab notebook template includes all of the questions as well as pre-created markdown cells for narrative text answers and pre-created code cells for any programs you may need to create. \n",
        "- Double click on these cells to edit and add your own content\n",
        "- If questions do not require a code component, you can ignore those cells\n",
        "- If questions to not require a narrative component, you can ignore those cells\n",
        "\n",
        "If working in JupyterLab or another desktop IDE, upload the lab notebook template `.ipynb` file to Canvas as your lab submission.\n",
        "- NOTE: This lab also asks you to upload a PDF version of this notebook. You are welcome, but not required, to do that moving forward.\n",
        "\n",
        "If working in Google Colaboratory, submit the link to your notebook (checking sharing permissions, similar with Google Docs) AS WELL AS the `.ipyb` file"
      ],
      "metadata": {
        "id": "I_OHYEpXG8G-"
      }
    },
    {
      "cell_type": "markdown",
      "source": [
        "## Lab Notebook Questions"
      ],
      "metadata": {
        "id": "tQARbhvayCrm"
      }
    },
    {
      "cell_type": "markdown",
      "source": [
        "### **Q1: Work through the <a href=\"https://docs.spyder-ide.org/current/videos/first-steps-with-spyder.html\">\"First Steps with Spyder\"</a>resources provided in the Spyder documentation. That includes two 3.5 minute videos that introduce you to the basics of the Spyder IDE and how to get started with Python in Spyder. Describe your experience getting  started with Spyder using  these materials/resources.**\n"
      ],
      "metadata": {
        "id": "pgEKP1FtpExo"
      }
    },
    {
      "cell_type": "markdown",
      "metadata": {
        "id": "L0cFnREpis-5"
      },
      "source": [
        "**AnswerQ1**: Your answer here (double click to edit)"
      ]
    },
    {
      "cell_type": "code",
      "source": [
        "# your codes here (double click to edit)"
      ],
      "metadata": {
        "id": "3ljNdsyxpQRa"
      },
      "execution_count": null,
      "outputs": []
    },
    {
      "cell_type": "markdown",
      "source": [
        "### **Q2: How is Spyder different than previous IDEs? What do you see as strengths/advantages? What do you see as possible challenges?**"
      ],
      "metadata": {
        "id": "FembQg4kp_M2"
      }
    },
    {
      "cell_type": "markdown",
      "metadata": {
        "id": "v2XYT06SpfJQ"
      },
      "source": [
        "**AnswerQ2**: Your answer here (double click to edit)"
      ]
    },
    {
      "cell_type": "code",
      "source": [
        "# your codes here (double click to edit)"
      ],
      "metadata": {
        "id": "tY_xjVyoiRLu"
      },
      "execution_count": null,
      "outputs": []
    },
    {
      "cell_type": "markdown",
      "source": [
        "### **Q3: What type of error does this program return (syntax, runtime, semantic) and why? How would we go about modifying the program to address this error?**"
      ],
      "metadata": {
        "id": "3URjcSZDpbFu"
      }
    },
    {
      "cell_type": "markdown",
      "metadata": {
        "id": "mB-kFikxis_I"
      },
      "source": [
        "**AnswerQ3:** Your answer here (double click to edit)"
      ]
    },
    {
      "cell_type": "code",
      "source": [
        "# your codes here (double click to edit)\n",
        "\n",
        "# program you're looking at for Q3\n",
        "\n",
        "# function definition\n",
        "def printNTimes(message, x):\n",
        " for x in range(x):\n",
        "  print(message)\n",
        "\n",
        "# get inputs\n",
        "phrase = input(\"Enter your message here: \") # input statement for string\n",
        "times = int(input(\"How many times do you want this statement to print? Enter a number value.\")) # input statement for number of times\n",
        "\n",
        "# function call\n",
        "printNTimes(message, x)"
      ],
      "metadata": {
        "id": "UEfw6psfpgsa"
      },
      "execution_count": null,
      "outputs": []
    },
    {
      "cell_type": "markdown",
      "source": [
        "### **Q4: Take a `.py` file from a previous lab and load it into Spyder. Explore how the program runs in a different IDE. In particular, explore Spyder's options to run portions or a selection of the larger program. How does this change the way you interact with the program?**"
      ],
      "metadata": {
        "id": "NIornfjZpmFy"
      }
    },
    {
      "cell_type": "markdown",
      "metadata": {
        "id": "Cf3iN_D7is_N"
      },
      "source": [
        "**AnswerQ4:** Your answer here (double click to edit)"
      ]
    },
    {
      "cell_type": "code",
      "execution_count": null,
      "metadata": {
        "id": "r_wK6Djjd3TQ"
      },
      "outputs": [],
      "source": [
        "# your codes here (double click to edit)"
      ]
    },
    {
      "cell_type": "markdown",
      "source": [
        "### **Q5: What happens when we run this program? What kinds of log messages do we get, and what information do they give us?**"
      ],
      "metadata": {
        "id": "ymUHiLayptBD"
      }
    },
    {
      "cell_type": "markdown",
      "metadata": {
        "id": "3BAA-_Vyis_X"
      },
      "source": [
        "**AnswerQ5:** Your answer here (double click to edit)"
      ]
    },
    {
      "cell_type": "code",
      "execution_count": null,
      "metadata": {
        "id": "9lT7urowd9w3"
      },
      "outputs": [],
      "source": [
        "# your codes here (double click to edit)\n",
        "\n",
        "# program you're running for Q5\n",
        "import logging\n",
        "logging.basicConfig(level=logging.DEBUG, format=' %(asctime)s - %(levelname)s - %(message)s')\n",
        "logging.debug('Start of program')\n",
        "\n",
        "def factorial(n):\n",
        "  logging.debug('Start of factorial(%s%%)' % (n))\n",
        "  total = 1\n",
        "  for i in range(n + 1):\n",
        "    total *= i\n",
        "    logging.debug('i is ' + str(i) + ', total is ' + str(total))\n",
        "  logging.debug('End of factorial(%s%%)' % (n))\n",
        "  return total\n",
        "\n",
        "print(factorial(5))\n",
        "logging.debug('End of program')"
      ]
    },
    {
      "cell_type": "markdown",
      "source": [
        "### **Q6: Is this program doing what we expect? Where would you go next with debugging or addressing the error?**"
      ],
      "metadata": {
        "id": "HtUKT1xNqJQy"
      }
    },
    {
      "cell_type": "markdown",
      "metadata": {
        "id": "hcRpdIN_is_b"
      },
      "source": [
        "**AnswerQ6:** Your answer here (double click to edit)"
      ]
    },
    {
      "cell_type": "code",
      "execution_count": null,
      "metadata": {
        "id": "roxNuL4SHkw3"
      },
      "outputs": [],
      "source": [
        "# your codes here (double click to edit)\n",
        "\n",
        "# program you're running for Q6\n",
        "import logging\n",
        "logging.basicConfig(level=logging.DEBUG, format=' %(asctime)s - %(levelname)s - %(message)s')\n",
        "logging.debug('Start of program')\n",
        "\n",
        "def factorial(n):\n",
        "  logging.debug('Start of factorial(%s%%)' % (n))\n",
        "  total = 1\n",
        "  for i in range(n + 1):\n",
        "    total *= i\n",
        "    logging.debug('i is ' + str(i) + ', total is ' + str(total))\n",
        "  logging.debug('End of factorial(%s%%)' % (n))\n",
        "  return total\n",
        "\n",
        "print(factorial(5))\n",
        "logging.debug('End of program')"
      ]
    },
    {
      "cell_type": "markdown",
      "source": [
        "### **Q7: What are your thoughts on this approach to identifying what's happening in your program? What seems appealing? What seems challenging? When or how could this approach be useful?**"
      ],
      "metadata": {
        "id": "vu71MpmSivh5"
      }
    },
    {
      "cell_type": "markdown",
      "metadata": {
        "id": "tihNYy4uis_c"
      },
      "source": [
        "**AnswerQ7:** Your answer here (double click to edit)"
      ]
    },
    {
      "cell_type": "code",
      "execution_count": null,
      "metadata": {
        "id": "8f8fxymXICRJ"
      },
      "outputs": [],
      "source": [
        "# your codes here (double click to edit)"
      ]
    },
    {
      "cell_type": "markdown",
      "source": [
        "### **Q8: Compare your experience working in Spyder to your experience working in Replit (or another Python IDE). What seems appealing about each? What seems challenging? Based on this experience, what is your preference, or are there situations in which you'd prefer one over the other?**"
      ],
      "metadata": {
        "id": "XD9Uhw-kJee9"
      }
    },
    {
      "cell_type": "markdown",
      "metadata": {
        "id": "YlLeOQtJJgLq"
      },
      "source": [
        "**AnswerQ8:** Your answer here (double click to edit)"
      ]
    },
    {
      "cell_type": "code",
      "execution_count": null,
      "metadata": {
        "id": "4UGL0xzDICk1"
      },
      "outputs": [],
      "source": [
        "# your codes here (double click to edit)"
      ]
    },
    {
      "cell_type": "markdown",
      "source": [
        "### **Q9: In a markdown cell, add text that includes the following style or formatting components:**\n",
        "- Heading (h1, h2, h3, etc)\n",
        "- Italics or bold text formatting\n",
        "- Unordered (or bulleted point) list\n",
        "- Link\n",
        "\n",
        "**NOTE: You will want to reference Adam Pritchard's <a href=\"https://github.com/adam-p/markdown-here/wiki/Markdown-Cheatsheet\">Markdown Cheatsheet</a> resource when working on this question.**"
      ],
      "metadata": {
        "id": "VgywUA6SJfMR"
      }
    },
    {
      "cell_type": "markdown",
      "metadata": {
        "id": "4Mxe0-d8Jgii"
      },
      "source": [
        "**AnswerQ9:** Your answer here (double click to edit)"
      ]
    },
    {
      "cell_type": "code",
      "execution_count": null,
      "metadata": {
        "id": "RPu-jsdWIC5p"
      },
      "outputs": [],
      "source": [
        "# your codes here (double click to edit)"
      ]
    },
    {
      "cell_type": "markdown",
      "source": [
        "### **Q10: In a code cell, write a simple Python program (or programs) that includes the following functions:**\n",
        "- `input()`\n",
        "- `print()`\n",
        "\n",
        "**You are welcome to use a program (or programs) you've written for previous labs- original code is not required for this question. The main point for this question is to see how a Jupyter Notebook code cell executes a program.**"
      ],
      "metadata": {
        "id": "lJMYtl39JfSi"
      }
    },
    {
      "cell_type": "markdown",
      "metadata": {
        "id": "cQDZpa9VJg0u"
      },
      "source": [
        "**AnswerQ10:** Your answer here (double click to edit)"
      ]
    },
    {
      "cell_type": "code",
      "execution_count": null,
      "metadata": {
        "id": "FvFl1FI6IDPu"
      },
      "outputs": [],
      "source": [
        "# your codes here (double click to edit)"
      ]
    },
    {
      "cell_type": "markdown",
      "source": [
        "### **Q11: Use the Anaconda or JupyterLab terminal to install the four libraries mentioned in this section of the lab (numpy, scikit-learn, pandas, matplotlib). Describe your experience installing these libraries using the available/provided documentation. What did you expect to happen? What challenges did you face? How did you solve them?**"
      ],
      "metadata": {
        "id": "AcHP6xZQH8jG"
      }
    },
    {
      "cell_type": "markdown",
      "metadata": {
        "id": "yx9CnV57H_eQ"
      },
      "source": [
        "**AnswerQ11:** Your answer here (double click to edit)"
      ]
    },
    {
      "cell_type": "code",
      "execution_count": null,
      "metadata": {
        "id": "xY85RovsIDpf"
      },
      "outputs": [],
      "source": [
        "# your codes here (double click to edit)"
      ]
    },
    {
      "cell_type": "markdown",
      "source": [
        "### **Q12: Write import statements for each of the libraries you installed in Q11. What did you expect to happen? What challenges did you face (if any)?**"
      ],
      "metadata": {
        "id": "XlDe4M6GH87E"
      }
    },
    {
      "cell_type": "markdown",
      "metadata": {
        "id": "2h-gsF-5H_pY"
      },
      "source": [
        "**AnswerQ10:** Your answer here (double click to edit)"
      ]
    },
    {
      "cell_type": "code",
      "execution_count": null,
      "metadata": {
        "id": "AQzRonzHID9t"
      },
      "outputs": [],
      "source": [
        "# your codes here (double click to edit)"
      ]
    },
    {
      "cell_type": "markdown",
      "source": [
        "### **Q13: After working through the previous steps, export your notebook for this lab as a PDF. Submit both the Jupyter Notebook (.ipynb) and PDF file on Canvas.**\n",
        "- NOTE: If working in Google Colaboratory, also submit a link/URL to your notebook as a comment or additional submission. Be sure to update sharing permissions (`Share`, top-right hand corner)"
      ],
      "metadata": {
        "id": "oNZAwLw0H9C0"
      }
    },
    {
      "cell_type": "markdown",
      "metadata": {
        "id": "yqoSCUVeH_30"
      },
      "source": [
        "**AnswerQ13:** Your answer here (double click to edit)"
      ]
    },
    {
      "cell_type": "code",
      "execution_count": null,
      "metadata": {
        "id": "pd-RYTFnIEQT"
      },
      "outputs": [],
      "source": [
        "# your codes here (double click to edit)"
      ]
    },
    {
      "cell_type": "markdown",
      "source": [
        "### **Q14: Describe and compare your experience working in different Python IDEs. What seems appealing about each? What seems challenging? Based on this experience, what are some of your preferences, or are there situations in which you'd prefer a specific IDE (or Python authoring environment)**"
      ],
      "metadata": {
        "id": "2USaFmX3H9H1"
      }
    },
    {
      "cell_type": "markdown",
      "metadata": {
        "id": "gO2-sUftIAGd"
      },
      "source": [
        "**AnswerQ14:** Your answer here (double click to edit)"
      ]
    },
    {
      "cell_type": "code",
      "execution_count": null,
      "metadata": {
        "id": "s552Pkh_IEiU"
      },
      "outputs": [],
      "source": [
        "# your codes here (double click to edit)"
      ]
    }
  ]
}