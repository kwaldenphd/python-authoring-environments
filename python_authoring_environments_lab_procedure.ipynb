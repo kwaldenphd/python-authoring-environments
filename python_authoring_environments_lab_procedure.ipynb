{
  "nbformat": 4,
  "nbformat_minor": 0,
  "metadata": {
    "colab": {
      "provenance": [],
      "toc_visible": true,
      "authorship_tag": "ABX9TyPohESuECNynyi13bJeRIhQ",
      "include_colab_link": true
    },
    "kernelspec": {
      "name": "python3",
      "display_name": "Python 3"
    },
    "language_info": {
      "name": "python"
    }
  },
  "cells": [
    {
      "cell_type": "markdown",
      "metadata": {
        "id": "view-in-github",
        "colab_type": "text"
      },
      "source": [
        "<a href=\"https://colab.research.google.com/github/kwaldenphd/python-authoring-environments/blob/main/python_authoring_environments_lab_procedure.ipynb\" target=\"_parent\"><img src=\"https://colab.research.google.com/assets/colab-badge.svg\" alt=\"Open In Colab\"/></a>"
      ]
    },
    {
      "cell_type": "markdown",
      "source": [
        "# Python Authoring Environments\n",
        "\n",
        "<a href=\"http://creativecommons.org/licenses/by-nc/4.0/\" rel=\"license\"><img style=\"border-width: 0;\" src=\"https://i.creativecommons.org/l/by-nc/4.0/88x31.png\" alt=\"Creative Commons License\" /></a>This tutorial was written by Katherine Walden and is licensed under a <a href=\"http://creativecommons.org/licenses/by-nc/4.0/\" rel=\"license\">Creative Commons Attribution-NonCommercial 4.0 International License</a>.\n"
      ],
      "metadata": {
        "id": "-5f16y8kD5jG"
      }
    },
    {
      "cell_type": "markdown",
      "source": [
        "## Lab Goals & Objectives\n",
        "\n",
        "This lab introduces students to the Anaconda environment manager, with a focus on Python IDEs Spyder and JupyterLab. Through this lab, students will:\n",
        "- Install Anaconda in their local environment\n",
        "- Explore the Spyder IDE, including step-wise debugging and the `log` module\n",
        "- Explore the Jupyter Lab IDE, with a focus on the notebook authoring environment\n",
        "- Compare and contrast Python IDEs\n",
        "\n",
        "<table>\n",
        " <tr><td>\n",
        "<img src=\"https://elearn.southampton.ac.uk/wp-content/blogs.dir/sites/64/2021/04/PanPan.png\" alt=\"Panopto logo\" width=\"50\"/></td>\n",
        "<td><a href=\"https://notredame.hosted.panopto.com/Panopto/Pages/Viewer.aspx?pid=c9223a74-1b88-4f51-bea7-af34014538b0\">Lecture/live coding playlist</a></td>\n",
        "  </tr>\n",
        "  </table>"
      ],
      "metadata": {
        "id": "ln8Ay3AgFm8W"
      }
    },
    {
      "cell_type": "markdown",
      "source": [
        "## Acknowledgements\n",
        "\n",
        "The documentation for Google Colab was developed by Spring 2021 graduate teaching assistant [Subhadyuti Sahoo](https://github.com/SDSAHOO703).\n",
        "\n",
        "Peer review and editing was provided by Spring 2021 graduate teaching assistants [Subhadyuti Sahoo](https://github.com/SDSAHOO703) and [Aidan Draper](https://github.com/adraper2).\n",
        "\n",
        "The author consulted the following texts when writing this tutorial:\n",
        "- Al Sweigart's [*Automate the Boring Stuff With Python*](https://nostarch.com/automatestuff2) (No Starch Press, 2020).\n",
        "  * Chapter 11, \"Debugging\" (249-266)\n",
        "- Allen Downey, [*Think Python: How to Think Like a Computer Scientist*](https://www.oreilly.com/library/view/think-python-2nd/9781491939406/) (O'Reilly, 2015).\n",
        "  * Chapter 2 \"Variables, Expressions and Statements\" (11-20)\n",
        "- Quinn Dombrowski, Tassie Gniady, and David Kloster, \"Introduction to Jupyter Notebooks,\" *The Programming Historian* 8 (2019), https://doi.org/10.46430/phen0087"
      ],
      "metadata": {
        "id": "GLJlCXOUFoXT"
      }
    },
    {
      "cell_type": "markdown",
      "source": [
        "# Lecture & Live Coding\n",
        "\n",
        "Throughout this lab, you will see a Panopto icon at the start of select sections. This icon indicates there is lecture/live coding asynchronous content that accompanies this section of the lab. You can click the link in the figure caption to access these materials (ND users only).\n",
        "\n",
        "Example:\n",
        "\n",
        "<table>\n",
        " <tr><td>\n",
        "<img src=\"https://elearn.southampton.ac.uk/wp-content/blogs.dir/sites/64/2021/04/PanPan.png\" alt=\"Panopto logo\" width=\"50\"/></td>\n",
        "<td><a href=\"https://notredame.hosted.panopto.com/Panopto/Pages/Viewer.aspx?pid=c9223a74-1b88-4f51-bea7-af34014538b0\">Lecture/live coding playlist</a></td>\n",
        "  </tr>\n",
        "  </table>"
      ],
      "metadata": {
        "id": "RtPX29TVFprk"
      }
    },
    {
      "cell_type": "markdown",
      "source": [
        "# Setup & Environment\n",
        "\n",
        "<p align=\"center\"><a href=\"https://github.com/kwaldenphd/python-jupyter-notebooks/blob/main/images/Figure_1.png?raw=true\"><img class=\"aligncenter\" src=\"https://github.com/kwaldenphd/python-jupyter-notebooks/blob/main/images/Figure_1.png?raw=true\" /></a></p>\n",
        "\n",
        "Windows/PC instructions:\n",
        "- Anaconda Documentation, [\"Installing on Windows\"](https://docs.anaconda.com/anaconda/install/windows/) *Anaconda* (2020).\n",
        "- ProgrammingKnowledge, [\"Install Anaconda Python, Jupyter Notebook and Spyder on Windows 10\"](https://youtu.be/5mDYijMfSzs) *YouTube video* (4 September 2018).\n",
        "\n",
        "Mac OS instructions:\n",
        "- Anaconda Documentation, [\"Installing on macOS\"](https://docs.anaconda.com/anaconda/install/mac-os/) *Anaconda* (2020).\n",
        "- Understanding Data, [\"Easily Install Anaconda Python Distribution On Mac OS X\"](https://youtu.be/V6ZAv7hBH6Y) *YouTube video* (16 October 2019).\n",
        "\n",
        "Chromebook instructions:\n",
        "- Alex P. Miller, [\"Data Science on a Chromebook: How to run Jupyter, Python, and R locally in ChromeOS\"](https://alex.miller.im/posts/data-science-chromebook-pixelbook-jupyter-python-r/) *personal blog* (6 March 2019).\n",
        "- Noebrian, [\"Installing Anaconda on a Chromebook\"](https://chromebook.home.blog/2019/01/20/installing-anaconda-on-a-chromebook-no-dev-beta-or-crouton-needed/) *ChromeBooks* (20 January 2019).\n",
        "\n",
        "<p align=\"center\"><img src=\"https://github.com/kwaldenphd/python-authoring-environments/blob/main/images/Anaconda_Navigator.png?raw=true\" width=\"1000\"></p>\n",
        "\n",
        "Once you are able to launch the Anaconda Navigator, click on the icons for the following two programs to install them:\n",
        "- Spyder\n",
        "- JupyterLab"
      ],
      "metadata": {
        "id": "i55V28wIFrC1"
      }
    },
    {
      "cell_type": "markdown",
      "source": [
        "# Lab Notebook Template\n",
        "\n",
        "[Click here](https://colab.research.google.com/drive/13XsSSsqt3AmjLYKjdTn0pvQ1406anah3?usp=sharing) to access the lab notebook template as a Jupyter Notebook (Google CoLab, ND Users).\n",
        "\n",
        "To download the notebok from Google Colaboratory (as a `.ipynb` file): `File` (top-left corner) -> `Download` -> `Download as .ipynb`. Once you have downloaded the file on your local computer, you can move it into a designated folder for this lab/class."
      ],
      "metadata": {
        "id": "Olucu0-TFsRQ"
      }
    },
    {
      "cell_type": "markdown",
      "source": [
        "Up to this point, we have used the browser-based IDE [Replit](https://repl.it/).\n",
        "\n",
        "What is an IDE? \"An integrated development environment (IDE) is a software application that provides comprehensive facilities to computer programmers for software development. An IDE normally consists of at least a source code editor, build automation tools and a debugger\" ([Wikipedia](https://en.wikipedia.org/wiki/Integrated_development_environment)).\n",
        "\n",
        "An IDE can include features like syntax highlighting, code completion, version control, and debugging. There are a WIDE range of IDEs that are proprietary or open-source, tailored to a specific language or able to work across languages.\n",
        "\n",
        "Some common IDEs include Eclipse, Geany, Brackets, Atom, PyCharm, Spyder, RStudio, etc. For more in IDEs, visit Wikipedia's [\"Comparison of integrated development environments\"](https://en.wikipedia.org/wiki/Comparison_of_integrated_development_environments) page.\n",
        "\n",
        "Replit (generally) worked for (most of) our needs. But it ran into problems with more complex programs or programs involving external files/datasets/etc. Now, we're going to install Python on your local computer, using a distribution called Anaconda.\n",
        "\n",
        "What is Anaconda? \"Anaconda is a open-source distribution of the Python and R programming languages for scientific computing (data science, machine learning applications, large-scale data processing, predictive analytics, etc.), that aims to simplify package management and deployment. The distribution includes data-science packages suitable for Windows, Linux, and macOS. It is developed and maintained by Anaconda, Inc., which was founded by Peter Wang and Travis Oliphant in 2012\" ([Wikipedia](https://en.wikipedia.org/wiki/Anaconda_(Python_distribution))).\n",
        "\n",
        "The Anaconda environment includes a number of specific tools and programs, including:\n",
        "- JupyterLab\n",
        "- Jupyter Notebook\n",
        "- Qt Console\n",
        "- Spyder\n",
        "- Glue\n",
        "- Orange\n",
        "- RStudio\n",
        "- Visual Code Studio\n",
        "\n",
        "To install Anaconda on your own computer:\n",
        "\n",
        "Windows/PC instructions:\n",
        "- Anaconda Documentation, [\"Installing on Windows\"](https://docs.anaconda.com/anaconda/install/windows/) *Anaconda* (2020).\n",
        "- ProgrammingKnowledge, [\"Install Anaconda Python, Jupyter Notebook and Spyder on Windows 10\"](https://youtu.be/5mDYijMfSzs) *YouTube video* (4 September 2018).\n",
        "\n",
        "Mac OS instructions:\n",
        "- Anaconda Documentation, [\"Installing on macOS\"](https://docs.anaconda.com/anaconda/install/mac-os/) *Anaconda* (2020).\n",
        "- Understanding Data, [\"Easily Install Anaconda Python Distribution On Mac OS X\"](https://youtu.be/V6ZAv7hBH6Y) *YouTube video* (16 October 2019).\n",
        "\n",
        "Chromebook instructions:\n",
        "- Alex P. Miller, [\"Data Science on a Chromebook: How to run Jupyter, Python, and R locally in ChromeOS\"](https://alex.miller.im/posts/data-science-chromebook-pixelbook-jupyter-python-r/) *personal blog* (6 March 2019).\n",
        "- Noebrian, [\"Installing Anaconda on a Chromebook\"](https://chromebook.home.blog/2019/01/20/installing-anaconda-on-a-chromebook-no-dev-beta-or-crouton-needed/) *ChromeBooks* (20 January 2019).\n",
        "\n",
        "<p align=\"center\"><img src=\"https://github.com/kwaldenphd/python-authoring-environments/blob/main/images/Anaconda_Navigator.png?raw=true\" width=\"1000\"></p>\n",
        "\n",
        "Once you are able to launch the Anaconda Navigator, click on the icons for the following two programs to install them:\n",
        "- Spyder\n",
        "- JupyterLab\n",
        "\n",
        "The rest of this lab will introduce us to `Spyder`, a Python IDE with some similarities to Replit, and `JupyterLab,` a Python notebook authoring IDE. Not sure what notebooks are? Stay tuned!\n"
      ],
      "metadata": {
        "id": "HpzM9MBGF1df"
      }
    },
    {
      "cell_type": "markdown",
      "source": [
        "# Python in Spyder\n",
        "\n",
        "<table>\n",
        " <tr><td>\n",
        "<img src=\"https://elearn.southampton.ac.uk/wp-content/blogs.dir/sites/64/2021/04/PanPan.png\" alt=\"Panopto logo\" width=\"50\"/></td>\n",
        "<td><a href=\"https://notredame.hosted.panopto.com/Panopto/Pages/Viewer.aspx?id=ba8b6fcf-2ae6-4e7d-9a2d-af3401369491\">Python in Spyder</a></td>\n",
        "  </tr>\n",
        "  </table>\n",
        "\n",
        "To install Spyder as a stand-alone program: [spyder-ide.org](https://www.spyder-ide.org)"
      ],
      "metadata": {
        "id": "Au48v4coF3Os"
      }
    },
    {
      "cell_type": "markdown",
      "source": [
        "## What is Spyder? \n",
        "\n",
        "\"Spyder is a free and open source scientific environment written in Python, for Python, and designed by and for scientists, engineers and data analysts. It features a unique combination of the advanced editing, analysis, debugging, and profiling functionality of a comprehensive development tool with the data exploration, interactive execution, deep inspection, and beautiful visualization capabilities of a scientific package\" ([Spyder documentation](https://www.spyder-ide.org/)).\n",
        "\n",
        "Spyder's core components include:\n",
        "- Editor\n",
        "- IPython console\n",
        "- Variable explorer\n",
        "- Plots\n",
        "- Debugger\n",
        "- Help\n",
        "\n",
        "These robust Python features in Spyder will be incredibly useful as we start to do more work with datasets, visualizations (plots), and debugging in more complex programming environments.\n",
        "\n",
        "<p align=\"center\"><img src=\"https://github.com/kwaldenphd/python-authoring-environments/blob/main/images/Anaconda_Navigator.png?raw=true\" width=\"1000\"></p>\n",
        "\n",
        "Open the Anaconda navigator and select the option to launch Spyder.\n",
        "\n",
        "<p align=\"center\"><img src=\"https://github.com/kwaldenphd/python-authoring-environments/blob/main/images/Spyder_Navigation.png?raw=true\" width=\"1000\"></p>\n",
        "\n",
        "Spyder has three default panes that show up when you launch the program. Your `.py` file shows up on the left-hand side of the program window. This is where you will write Python code. You can have multiple `.py` files open in Spyder and navigate between the tabs. \n",
        "\n",
        "The top-right pane has four default options:\n",
        "- Variable explorer, which lets you see named variables in your program\n",
        "- Help, which provides additional documentation, information, or resources\n",
        "- Plots, which will show visualizations generated by your program\n",
        "- Files, which will show all files currently open or active in your Spyder workspace\n",
        "\n",
        "The bottom-right pane is the Console, which lets you execute and test Python commands. You can have multiple consoles open simultaneously. So how is the Console different from your `.py` file?\n",
        "\n",
        "In the `.py` file you are writing a Python program that will run or execute when the file is called. You make updates to that file, save changes, etc. The Console lets you execute Python commands but is not saving those commands as part of a `.py` file. Great for testing. Less great for building out complex programs.\n",
        "\n",
        "When we were working in Replit, all files that were part of our Python project were in the same virtual workspace. That's not going to be the case when working in a desktop IDE like Spyder. Think of this as the difference between working with files in Google Drive versus on your local computer. \n",
        "\n",
        "You can set a working directory, which is where Spyder will look for external files you are wanting to access from within a Python program. The working directory is also where Python will save `.py` files you build.\n",
        "\n",
        "<p align=\"center\"><img src=\"https://github.com/kwaldenphd/python-authoring-environments/blob/main/images/Spyder_Directory.png?raw=true\" width=\"250\"></p>\n",
        "\n",
        "Click on the folder icon in the top-right hand corner of Spyder (next to the arrow icon) to set a working directory. It doe--where you save `.py` files and other files (think data files) you might be wanting to access as part of a Python program. \n",
        "\n",
        "Now, files don't have to be in your current working directory for you to access them in Python. But you'll need to provide the full file path (i.e. location information or directory information for where that file is located on your computer).\n",
        "\n",
        "Go ahead and create an `EoC` folder and set that folder as your working directory in Spyder. It might also be a good idea to start creating lab-specific sub-folders within your `EoC` parent folder. This will help with organization as we move through labs and work with a variety of sample files and datasets.\n",
        "\n",
        "<blockquote>Q1: Work through the <a href=\"https://docs.spyder-ide.org/current/videos/first-steps-with-spyder.html\">\"First Steps with Spyder\"</a>resources provided in the Spyder documentation. That includes two 3.5 minute videos that introduce you to the basics of the Spyder IDE and how to get started with Python in Spyder. Describe your experience getting  started with Spyder using  these materials/resources.</blockquote>\n",
        "\n",
        "<blockquote>Q2: How is Spyder different than previous IDEs? What do you see as strengths/advantages? What do you see as possible challenges?</blockquote>\n",
        "\n",
        "<blockquote>Q3: Take a <code>.py</code> file from a previous lab and load it into Spyder. Explore how the program runs in a different IDE. In particular, explore Spyder's options to run portions or a selection of the larger program. How does this change the way you interact with the program?</blockquote>"
      ],
      "metadata": {
        "id": "I000majPF56d"
      }
    },
    {
      "cell_type": "markdown",
      "source": [
        "## Debugging\n",
        "\n",
        "To paraphrase an old programming joke, writing code is 90% of the work of programming. Debugging is the other 90%. You've been working on a program for hours, your head hurts, and something still isn't working. We all know a version of that feeling.\n",
        "\n",
        "There's no easy solution that will prevent all problems (or \"bugs\") in your code. But having strategies for testing your code, recognizing and making sense of error messages, and methodically debugging your code can help immensely.\n",
        "\n",
        "Python errors will usually fall into three types: syntax, runtime, and semantic.\n",
        "\n",
        "- Syntax refers to the structure of a program and rules about that structure. ***Syntax errors*** involve things like indentation, parenthesis, etc. The Python interpreter expects the language to be structured a specific way, and throws a syntax error when it's not.\n",
        "\n",
        "- ***Runtime errors***, or ***exceptions***: appears after a program has started running. These errors indicate something unexpected has happened that interrupts or stops the program execution. \n",
        "  * Things that can cause a runtime error include:\n",
        "    * Misspelled or incorrectly capitalized variables or function names\n",
        "    * Dividing by zero\n",
        "    * Mismatched data types (i.e. attempting to perform operations on data of the wrong type)\n",
        "    * Attempting to use a type conversion function on a value that can't be converted\n",
        "\n",
        "- Semantic: relates to meaning. ***Semantic errors*** have to do with the meaning (or purpose/intent) of your code. Semantic errors don't show up as error messages-but the program will not do what you expect it to do. \n",
        "\n",
        "The debugging strategies discussed here will focus on semantic errors but are useful for all types of errors.\n"
      ],
      "metadata": {
        "id": "MmeU1idYF7bF"
      }
    },
    {
      "cell_type": "markdown",
      "source": [
        "### Stepwise debugging in Spyder\n",
        "\n",
        "Spyder will catch many syntax and runtime errors. Hover over a red `X` by any of your lines of code to see more information about a possible error.\n",
        "\n",
        "Spyder integrates the enhanced `ipdb` debugger, which gives you robust options for troubleshooting or debugging your code. Specifically, the debugger will let you run a program line by line, running a single line of code and waiting for you to tell it to continue.\n",
        "\n",
        "Running your program through this kind of debugging is immensely valuable for tracking down bugs or catching complex issues in a program. This mode of debugging includes the following possible steps or \"moves\":\n",
        "- Continue (run the program until the next breakpoint)\n",
        "- Step in (executes the next line of code; if the next line of code is a function, the debugger will 'step into' the first line of that function)\n",
        "- Step over (executes the next line of code, but will not go line-by-line through the function; the debugger 'steps over' the function code and waits for the function call to return)\n",
        "- Step out (lets you step out of a function if you used step in and want to 'step out' of the function)\n",
        "- Stop (stops debugging and terminates the program)\n",
        "\n",
        "<p align=\"center\"><img src=\"https://github.com/kwaldenphd/python-authoring-environments/blob/main/images/Spyder_Debugging_Menu.png?raw=true\" width=\"250\"></p>\n",
        "\n",
        "<p align=\"center\"><img src=\"https://github.com/kwaldenphd/python-authoring-environments/blob/main/images/Spyder_Debugging.png?raw=true\" width=\"500\"></p>\n",
        "\n",
        "Let's use this approach and Spyder functionality to debug a function program we wrote for a previous lab."
      ],
      "metadata": {
        "id": "D6PNUBXAF8d2"
      }
    },
    {
      "cell_type": "code",
      "source": [
        "# function definition\n",
        "def printNTimes(message, x):\n",
        " for x in range(x):\n",
        "  print(message)\n",
        "\n",
        "# get inputs\n",
        "phrase = input(\"Enter your message here: \") # input statement for string\n",
        "times = int(input(\"How many times do you want this statement to print? Enter a number value.\")) # input statement for number of times\n",
        "\n",
        "# function call\n",
        "printNTimes(message, x)"
      ],
      "metadata": {
        "id": "QP1UJNG0F9YC"
      },
      "execution_count": null,
      "outputs": []
    },
    {
      "cell_type": "markdown",
      "source": [
        "First run the program without the debugger enabled. What happens? Debug the file going line-by-line. Remember to use `Step Over` to execute functions without going into each line of the function code.\n",
        "- Functions in this sample program include `print()` and `input()`\n",
        "- You can always `Step Out` if you accidently step into a function\n",
        "\n",
        "<blockquote>Q4: What type of error does this program return (syntax, runtime, semantic) and why? How would we go about modifying the program to address this error?</blockquote>"
      ],
      "metadata": {
        "id": "F1gl20cyF-bS"
      }
    },
    {
      "cell_type": "markdown",
      "source": [
        "### Other approaches to debugging\n",
        "\n",
        "If you've never put a `print()` statement in your code to output a variable's value while the program is running, you have used a form of `logging` to debug your code. Python's `logging` module lets you record custom messages that output as part of your program. These `log` messages describe when the program reaches a point where a logging function is called and what variables have been specified at that point.\n",
        "\n",
        "Step one is to import the `logging` module and set up basic configuration for the module at the top of your `.py` file."
      ],
      "metadata": {
        "id": "xowOyX9lF_4L"
      }
    },
    {
      "cell_type": "code",
      "source": [
        "import logging\n",
        "logging.basicConfig(level=logging.DEBUG, format=' %(asctime)s - %(levelname)s - %(message)s')"
      ],
      "metadata": {
        "id": "EuVcxiP4GAvT"
      },
      "execution_count": null,
      "outputs": []
    },
    {
      "cell_type": "markdown",
      "source": [
        "This configuration information instructs Python to create a `LogRecord` object when a logging function is called, and to include specific information about that event in the `LogRecord` object.\n",
        "\n",
        "So how would we use the `logging` module when writing a program? Say we were creating a function that calcualted the factorial of a given number.\n",
        "- Factorial 4 is 1 x 2 x 3 x 4 = 24\n",
        "- Factorial 7 is 1 x 2 x 3 x 4 x 5 x 6 x 7 = 5040"
      ],
      "metadata": {
        "id": "aBsBpj9QGB1-"
      }
    },
    {
      "cell_type": "code",
      "source": [
        "import logging\n",
        "logging.basicConfig(level=logging.DEBUG, format=' %(asctime)s - %(levelname)s - %(message)s')\n",
        "logging.debug('Start of program')\n",
        "\n",
        "def factorial(n):\n",
        "  logging.debug('Start of factorial(%s%%)' % (n))\n",
        "  total = 1\n",
        "  for i in range(n + 1):\n",
        "    total *= i\n",
        "    logging.debug('i is ' + str(i) + ', total is ' + str(total))\n",
        "  logging.debug('End of factorial(%s%%)' % (n))\n",
        "  return total\n",
        "\n",
        "print(factorial(5))\n",
        "logging.debug('End of program')"
      ],
      "metadata": {
        "id": "nvFBnPhNGCnM"
      },
      "execution_count": null,
      "outputs": []
    },
    {
      "cell_type": "markdown",
      "source": [
        "Anytime we call the `logging.debug()` function, the configuration information from the start of the file governs the log formatting and messages.\n",
        "\n",
        "<blockquote>Q5: What happens when we run this program? What kinds of log messages do we get, and what information do they give us?</blockquote>\n",
        "\n",
        "<blockquote>Q6: Is this program doing what we expect? Where would you go next with debugging or addressing the error?</blockquote>\n",
        "\n",
        "### But why can't I debug using `print()`\n",
        "\n",
        "It can seem unwieldy to configure the `logging` module and write lines of code dedicated just to logging what's happening in your program. But think about the factorial example. Log messages led us right to the program's issue. Trying to debug using `print()` calls means you'll have to go back through each line of your program to remove `print()` statements used for debugging (while also making sure you aren't removing `print()` statements that are a component of the actual program).\n",
        "\n",
        "Think of the `logging` module as a report that generates alongside your program output as it executes. The program executes and you also have useful log information about what happened along the way. Once you're done debugging the program, you can add the `logging.disable()` function to the start of your program to supress the log messages without actually having to modify your program.\n",
        "\n",
        "<blockquote>Visit Python's <a href=\"https://docs.python.org/3/howto/logging.html\">Logging HOWTO</a> documentation to learn more about the logging module.</blockquote>\n",
        "\n",
        "<blockquote>Q7: What are your thoughts on this approach to identifying what's happening in your program? What seems appealing? What seems challenging? When or how could this approach be useful?</blockquote>\n",
        "\n",
        "<blockquote>Q8: Compare your experience working in Spyder to your experience working in Replit (or another Python IDE). What seems appealing about each? What seems challenging? Based on this experience, what is your preference, or are there situations in which you'd prefer one over the other?</blockquote>"
      ],
      "metadata": {
        "id": "ThH0urZHGEZC"
      }
    },
    {
      "cell_type": "markdown",
      "source": [
        "# Python & Jupyter Notebooks\n",
        "\n",
        "<table>\n",
        " <tr><td>\n",
        "<img src=\"https://elearn.southampton.ac.uk/wp-content/blogs.dir/sites/64/2021/04/PanPan.png\" alt=\"Panopto logo\" width=\"50\"/></td>\n",
        "<td><a href=\"https://notredame.hosted.panopto.com/Panopto/Pages/Viewer.aspx?id=4b9db2a4-f8b7-4cac-ac23-af340138ffb5\">Python & Jupyter Notebooks</a></td>\n",
        "  </tr>\n",
        "  </table>\n",
        "\n",
        "\"The Jupyter Notebook is a web-based interactive computing platform that allows users to author data- and code-driven narratives that combine live code, equations, narrative text, visualizations, interactive dashboards and other media.\" (Project Jupyter, [Jupyter Notebook](http://cameronoelsen.github.io/jupytersite/))\n",
        "\n",
        "<p align=\"center\"><img src=\"https://github.com/kwaldenphd/python-authoring-environments/blob/main/images/Google_Colab.png?raw=true\" width=\"1000\"></p>\n",
        "\n",
        "Navigate to [the following link](https://colab.research.google.com/drive/1vyAHwOf76_byT1CY8ofFwBg67h3Sljuh?usp=sharing#scrollTo=Thlyy-KwFmdR) in a web browser. You're looking at a Jupyter Notebook in the Google Colaboratory cloud-based IDE. And the content in this notebook may be familiar- it's the instructional materials from one of our previous labs.\n",
        "\n",
        "<p align=\"center\"><img src=\"https://github.com/kwaldenphd/python-authoring-environments/blob/main/images/Colab_ToC.png?raw=true\" width=\"500\"></p>\n",
        "\n",
        "Scroll through the notebook, making use of the table of contents. Run some of the code cells and see what happens. \n",
        "\n",
        "As the definition provided above highlights, Jupyter Notebooks are an authoring environment that lets you bring together narrative text, code, and output, all in a single document. \n",
        "\n",
        "There's a lot to love about notebooks as an authoring environment, and the notebook format (Jupyter Notebooks for Python, RMarkdown files for R/RStudio, etc) are increasingly becoming the norm in coding classes and data science workflows.\n",
        "\n",
        "A few challenges or drawbacks:\n",
        "- Version control especially in collaborative environments is virtually impossible\n",
        "- Notebooks often lack the debugging tools and autocompletion features of other IDEs\n",
        "- Testing and debugging code is virtually impossible\n",
        "- Installing third-party packages or modules can be tricky \n",
        "- The notebook non-linear workflow for program development/documentation limits transparent reproducible code\n",
        "- In some cases, notebooks don't play well with external big data applications (spark/dask/distributed)\n",
        "\n",
        "<blockquote>Citation: Alexander Mueller, <a href= \"https://towardsdatascience.com/5-reasons-why-jupyter-notebooks-suck-4dc201e27086\">\"5 reasons why jupyter notebooks suck\"</a>, <i>Towards Data Science</i> (24 March 2018)</blockquote>\n",
        "\n",
        "So when could you use Jupyter notebooks? Jupyter notebooks are fantastic tools for exploration. They also work well for documenting process, or in situations when you might need to alternate between code and other kinds of text (like say in a lab notebook)."
      ],
      "metadata": {
        "id": "l9WCuv2MGGtD"
      }
    },
    {
      "cell_type": "markdown",
      "source": [
        "## What is Jupyter?\n",
        "\n",
        "\"Project Jupyter is a non-profit, open-source project, born out of the IPython Project in 2014 as it evolved to support interactive data science and scientific computing across all programming languages. Jupyter will always be 100% open-source software, free for all to use and released under the liberal terms of the modified BSD license\" ([\"About Us\"](https://jupyter.org/about), *Jupyter.org*)\n",
        "\n",
        "Project Jupyter receives funding from a range of non-profit foundations and corporate partners that include:\n",
        "- Alfred P. Sloan Foundation\n",
        "- Gordon and Betty Moore Foundation\n",
        "- Google\n",
        "- Microsoft\n",
        "\n",
        "Institutional partners for Project Jupyter include:\n",
        "- Apple\n",
        "- Bloomberg\n",
        "- Netflix\n",
        "- Cal Poly\n",
        "- Berkeley\n",
        "- Amazon Web Services (AWS)\n",
        "\n",
        "The name Jupyter is a reference to the three core languages supported by the project: **Ju**lia, **Py**thon, and **R**. And what is a Jupyter notebook? According to \"[The Jupyter Notebook](https://jupyter-notebook.readthedocs.io/en/stable/notebook.html)\" documentation:\n",
        "\n",
        "<blockquote>The notebook extends the console-based approach to interactive computing in a qualitatively new direction, providing a web-based application suitable for capturing the whole computation process: developing, documenting, and executing code, as well as communicating the results. The Jupyter notebook combines two components:\n",
        " <ul>\n",
        "  <li>A web application: a browser-based tool for interactive authoring of documents which combine explanatory text, mathematics, computations and their rich media output.</li>\n",
        "  <li>Notebook documents: a representation of all content visible in the web application, including inputs and outputs of the computations, explanatory text, mathematics, images, and rich media representations of objects</li>\n",
        " </ul>\n",
        " </blockquote>"
      ],
      "metadata": {
        "id": "geGyPSn3GISH"
      }
    },
    {
      "cell_type": "markdown",
      "source": [
        "## Google CoLab: A Web-Based Alternative\n",
        "\n",
        "<table>\n",
        " <tr><td>\n",
        "<img src=\"https://elearn.southampton.ac.uk/wp-content/blogs.dir/sites/64/2021/04/PanPan.png\" alt=\"Panopto logo\" width=\"50\"/></td>\n",
        "  <td><a href=\"https://notredame.hosted.panopto.com/Panopto/Pages/Viewer.aspx?id=baea6963-c832-4d27-a1cf-add90131468f\">Google CoLab</a></td>\n",
        "  </tr>\n",
        "  </table>\n",
        "\n",
        "Anaconda is a hefty software program that may not run (or run well) on your personal computer.\n",
        "\n",
        "\"'Colaboratory,' or 'CoLab' for short, is a product from Google Research. Colab allows anybody to write and execute arbitrary python code through the browser, and is especially well suited to machine learning, data analysis and education. More technically, Colab is a hosted Jupyter notebook service that requires no setup to use, while providing free access to computing resources including GPUs.\" ([Google Colaboratory, \"Frequently Asked Questions\"](https://research.google.com/colaboratory/faq.html))\n",
        "\n",
        "If Jupyter Notebooks through Anaconda is not a good fit, Google CoLab is a robust alternative.\n",
        "\n",
        "[\"Google CoLab Instructions\"](https://github.com/kwaldenphd/python-authoring-environments/blob/main/google-colab-instructions.md), developed by Spring and Fall 2021 graduate teaching assistant [Subhadyuti Sahoo](https://github.com/SDSAHOO703).\n",
        "\n",
        "See also:\n",
        "- [\"Welcome to Colaboratory\"](https://colab.research.google.com/notebooks/intro.ipynb) notebook from Google CoLab\n",
        "\n",
        "The remainder of the lab procedure is written for JupyterLab, but you can modify the workflows for Google Colab you'd prefer to work in a web-based IDE (similar to Replit) that autosaves and allows you share your work via a single link (similar to Replit)."
      ],
      "metadata": {
        "id": "bd-v0yddGJ5c"
      }
    },
    {
      "cell_type": "markdown",
      "source": [
        "## Launching & Navigating JupyterLab\n",
        "\n",
        "<p align=\"center\"><img src=\"https://github.com/kwaldenphd/python-authoring-environments/blob/main/images/Anaconda_Navigator.png?raw=true\" width=\"1000\"></p>\n",
        "\n",
        "A Jupyter notebook is a file (the notebook document) that displays or renders in a web browser. We'll be launching Jupyter Notebooks through Anaconda. The web application component of the notebook will be hosted on your local computer and the notebook document will save to a file directory on your local computer.\n",
        "\n",
        "<p align=\"center\"><img src=\"https://github.com/kwaldenphd/python-authoring-environments/blob/main/images/JupyterLab_Navigation.png?raw=true\" width=\"1000\"></p>\n",
        "\n",
        "It may take some time for the notebook to open in a browser window. The notebook name is what the `.ipynb` file created via the Jupyter notebook will be saved as. Click on the default notebook name (usually `Untitled`) to rename the notebook.\n",
        "\n",
        "<p align=\"center\"><img src=\"https://github.com/kwaldenphd/python-authoring-environments/blob/main/images/JupyterLab_Menu_Icons.png?raw=true\" width=\"500\"></p>\n",
        "\n",
        "The menu bar includes drop-down options used to manipulate the notebook functionality. The toolbar icons give you quick access to the most commonly-used features of the notebook environment."
      ],
      "metadata": {
        "id": "d--vMloUGLEu"
      }
    },
    {
      "cell_type": "markdown",
      "source": [
        "## Authoring in Jupyter Notebooks\n",
        "\n",
        "Once you've created a new Jupyter Notebook, we can start adding cells. What's this about cells? Have we entered an alternate College of Science universe? Code cells are the default type of cell. But why are there cells? Jupyter notebooks consist of a sequence of cells.\n",
        "\n",
        "A **cell** is a multiline text input field. You can execute the contents of a cell by using `Shift-Enter`, clicking the `Play` button in the toolbar, or the `Cell` and `Run` icons in the menu bar. How a cell executes is determined by its type.\n",
        "\n",
        "There are three types of Jupyter notebook cells.\n",
        "- ***Code cells*** allow you to edit and write code with full syntax highlighting and tab completion.\n",
        "- ***Markdown cells*** allow you to document the computational process using descriptive text formatted using the markdown language.\n",
        "- ***Raw cells*** allow you to write output directly. These cells are not evaluated by the notebook and render unmodified. NOTE- not all notebook authoring environments support raw cells\n",
        "\n",
        "You can edit or work within a code cell until you get the desired output, then move on to a new cell. You can use markdown cells along the way to document your process using narrative text (alongside or in addition to code comments used in code cells).\n",
        "\n",
        "To learn more about formatting text in markdown, visit Adam Pritchard's [\"Markdown Cheatsheet\"](https://github.com/adam-p/markdown-here/wiki/Markdown-Cheatsheet) resource page.\n",
        "\n",
        "<p align=\"center\"><img src=\"https://github.com/kwaldenphd/python-authoring-environments/blob/main/images/JupyterLab_Menu_Icons.png?raw=true\" width=\"500\"></p>\n",
        "\n",
        "There are a few ways you can change a cell's type. One option is to select the cell type from the drop-down options.\n",
        "\n",
        "Another option is to select `Cell Type` from the `Cell` menu tab. You'll also notice there are keyboard shortcuts for changing cell type.\n",
        "- `y` (code)\n",
        "- `m` (markdown)\n",
        "- `r` (raw)\n",
        "\n",
        "A couple of notes on keyboard shortcuts...\n",
        "- When your cursor is active inside the cell textbox, this indicates you are editing in the cell and are not able to use keyboard shortcuts\n",
        "- When you click outside the cell textbox, you are modifying the entire cell and can use keyboard shortcuts\n",
        "\n",
        "A few other useful keyboard shortcuts:\n",
        "- `x` (delete a cell)\n",
        "- `a` (insert cell above, default is code cell)\n",
        "- `b` (insert cell below, default is code cell)\n",
        "\n",
        "<blockquote>Q8: In a markdown cell, add text that includes the following style or formatting components:\n",
        " <ul>\n",
        "  <li>Heading (h1, h2, h3, etc)</li>\n",
        "  <li>Italics or bold text formatting</li>\n",
        "  <li>Unordered (or bulleted point) list</li>\n",
        "  <li>Link</li>\n",
        " </ul>\n",
        " NOTE: You will want to reference Adam Pritchard's <a href=\"https://github.com/adam-p/markdown-here/wiki/Markdown-Cheatsheet\">Markdown Cheatsheet</a> resource when working on this question.\n",
        " </blockquote>\n",
        "\n",
        "<blockquote>Q10: In a code cell, write a simple Python program (or programs) that includes the following functions:\n",
        " <ul>\n",
        "  <li><code>input()</code></li>\n",
        "  <li><code>print()</code></li>\n",
        " </ul>\n",
        " You are welcome to use a program (or programs) you've written for previous labs- original code is not required for this question. The main point for this question is to see how a Jupyter Notebook code cell executes a program.</blockquote>"
      ],
      "metadata": {
        "id": "4HBRAm2TGNLZ"
      }
    },
    {
      "cell_type": "markdown",
      "source": [
        "### Installing packages in Jupyter notebooks\n",
        "\n",
        "In a previous lab, we mentioned how you can use modules, libraries, and packages to extend Python's functionality. That lab used the built-in `csv` and `json` modules. We did not need to install those modules since they are already included in Python. All we had to do was use an `import` statement to bring those modules into our Python program.\n",
        "\n",
        "```Python\n",
        "# sample import statement\n",
        "import MODULE NAME\n",
        "```\n",
        "\n",
        "But, there are many situations in which we would need to install a Python module, package, or library before being able to use `import`. Let's take a look at the installation instructions for a few common Python libraries.\n",
        "- `NumPy` (scientific computing), [\"Installing NumPy\"](https://numpy.org/install/)\n",
        "- `SciKit-Learn` (machine learning), [\"Installing scikit-learn\"](https://scikit-learn.org/stable/install.html)\n",
        "- `pandas` (data wrangling/analysis) [\"Installation\"](https://pandas.pydata.org/docs/getting_started/install.html)\n",
        "- `matplotlib` (data visualization) [\"Installation\"](https://matplotlib.org/stable/users/installing.html)\n",
        "\n",
        "The documentation for each library includes sample code for installing the library in different Python environments and operating systems. Many libraries/packages will include sample code for installing the package using `pip`, an installation method available through the Python Package Index. Most libraries/packages will also include sample code for installing the package through Anaconda, sometimes referred to as `conda` in documentation.\n",
        "\n",
        "BUT...these install commands are not something we should run within our Python program, whether we're working in a `.py` script or a `.ipynb` notebook. You might see internet documentation that suggests you apply the install terminal syntax directly in a code cell."
      ],
      "metadata": {
        "id": "5s6_u5pXGPJE"
      }
    },
    {
      "cell_type": "code",
      "source": [
        "!conda install --yes numpy\n",
        "\n",
        "!pip install numpy"
      ],
      "metadata": {
        "id": "m94jG8RmGQU7"
      },
      "execution_count": null,
      "outputs": []
    },
    {
      "cell_type": "markdown",
      "source": [
        "Resist this temptation! We want to make sure the library is installed correctly in our Python environment, so we need to run the install command in a terminal/shell.\n",
        "\n",
        "<p align=\"center\"><img src=\"https://github.com/kwaldenphd/python-authoring-environments/blob/main/images/JupyterLab_Launcher.png?raw=true\" width=\"1000\"></p>\n",
        "\n",
        "Within the terminal, we can run the install command.\n",
        "- `pip` will work, but when possible `conda` is best\n",
        "\n",
        "If you absolutely must install a package from within a notebook, we can use the `sys` module to install the package from within the notebook."
      ],
      "metadata": {
        "id": "R83EzJirGRoV"
      }
    },
    {
      "cell_type": "code",
      "source": [
        "# sample code for installing numpy using conda\n",
        "\n",
        "# import sys module\n",
        "import sys\n",
        "\n",
        "# line of code to install numpy using conda\n",
        "!conda install --yes --prefix {sys.prefix} numpy"
      ],
      "metadata": {
        "id": "gGrE1DVlGTLl"
      },
      "execution_count": null,
      "outputs": []
    },
    {
      "cell_type": "code",
      "source": [
        "# sample code for installing numpy using pip\n",
        "\n",
        "# import sys module\n",
        "import sys\n",
        "\n",
        "# line of code to install numpy using pip\n",
        "!{sys.executable} -m pip install numpy"
      ],
      "metadata": {
        "id": "jAJ3NFgnGV2t"
      },
      "execution_count": null,
      "outputs": []
    },
    {
      "cell_type": "markdown",
      "source": [
        "For more on installing Python packages in the Jupyter notebook environment:\n",
        "- Jake VanderPlas, [\"Installing Python Packages from a Jupyter Notebook\"](https://jakevdp.github.io/blog/2017/12/05/installing-python-packages-from-jupyter/) *Pythonic Perambulations personal blog* (5 December 2017)\n",
        "\n",
        "If you have already installed a package at the command line using `pip` or `conda`, launching Jupyter from the Anaconda navigator should not require installing the package again.\n",
        "\n",
        "<blockquote>Q11: Use the Anaconda or JupyterLab terminal to install the four libraries mentioned in step 55 (numpy, scikit-learn, pandas, matplotlib). Describe your experience installing these libraries using the available/provided documentation. What did you expect to happen? What challenges did you face? How did you solve them?</blockquote>\n",
        "\n",
        "You can load the module/library/package in your Python program using `import`.\n",
        "\n",
        "<p align=\"center\"><a href=\"https://github.com/kwaldenphd/python-jupyter-notebooks/blob/main/images/module_error.png?raw=true\"><img class=\"aligncenter\" src=\"https://github.com/kwaldenphd/python-jupyter-notebooks/blob/main/images/module_error.png?raw=true\" /></a></p>\n",
        "\n",
        "The `import` statements won't have an output, but the absence of a `ModuleNotFoundError` message is a good sign.\n",
        "\n",
        "<blockquote>Q12: Write import statements for each of the libraries you installed in Q11. What did you expect to happen? What challenges did you face (if any)?</blockquote>\n"
      ],
      "metadata": {
        "id": "ut3-qiRRGVc4"
      }
    },
    {
      "cell_type": "code",
      "source": [
        "# import pandas \n",
        "import pandas\n",
        "\n",
        "# import pandas using pd alias\n",
        "import pandas as pd"
      ],
      "metadata": {
        "id": "dMzQ2VOFGZU7"
      },
      "execution_count": null,
      "outputs": []
    },
    {
      "cell_type": "code",
      "source": [
        "# import numpy\n",
        "import numpy\n",
        "\n",
        "# import numpy using np alias\n",
        "import numpy as np"
      ],
      "metadata": {
        "id": "Dw9ecfGtGaH-"
      },
      "execution_count": null,
      "outputs": []
    },
    {
      "cell_type": "code",
      "source": [
        "# import scikit-learn\n",
        "import sklearn\n",
        "\n",
        "# import datasets module from scikit-learn\n",
        "from sklearn import datasets\n",
        "\n",
        "# import linear models from scikit-learn\n",
        "from sklearn import linear_model"
      ],
      "metadata": {
        "id": "FkhG6oBkGbFE"
      },
      "execution_count": null,
      "outputs": []
    },
    {
      "cell_type": "code",
      "source": [
        "# import matplotlib\n",
        "import matplotlib.pyplot\n",
        "\n",
        "# import matplotlib using plt alias\n",
        "import matplotlib.pyplot as plt"
      ],
      "metadata": {
        "id": "gNYHM4gyGb4A"
      },
      "execution_count": null,
      "outputs": []
    },
    {
      "cell_type": "markdown",
      "source": [
        "### Export Options\n",
        "\n",
        "<p align=\"center\"><img src=\"https://github.com/kwaldenphd/python-authoring-environments/blob/main/images/JupyterLab_File_Dropdown.png?raw=true\" width=\"500\"></p>\n",
        "\n",
        "You can download a Jupyter notebook as a `.ipynb` file (this is the default option). You can also use the `File` - `Download as` menu options to download the notebook in a number of other formats, including `.py`, `.pdf`, or `.html`.\n",
        "- NOTE: The PDF export options require additional configuration.\n",
        "\n",
        "Specifically, we're going to install the `notebook-as-pdf` and `pyppeteer` libraries. These allow HTML and PDF export and are much easier than trying to set up and configure LaTeX.\n",
        "\n",
        "Open a terminal (through Anaconda or Jupyter) and type the following commands (hitting `Enter` or `Return` after each line).\n",
        "\n",
        "```\n",
        "python -m pip install -U notebook-as-pdf\n",
        "pyppeteer-install\n",
        "```\n",
        "\n",
        "<p align=\"center\"><img src=\"https://github.com/kwaldenphd/python-authoring-environments/blob/main/images/JupyterLab_Kernel_Dropdown.png?raw=true\" width=\"500\"></p>\n",
        "\n",
        "Once both installation processes have completed, you can close the terminal. You will need to restart the Python Kernel for the new export options to be available. If needed, re-run any code cells.\n",
        "\n",
        "<blockquote>To learn more about configuring Jupyter Notebooks to download notebooks as PDFs:\n",
        " <ul>\n",
        "  <li><a href=\"https://pypi.org/project/notebook-as-pdf/\">Jupyter extension documentation</a></li>\n",
        "  <li>Cornellius Yudha Wijaya, \"<a href=\"https://towardsdatascience.com/jupyter-notebook-to-pdf-in-a-few-lines-3c48d68a7a63\">Jupyter Notebook to PDF in a few lines</a>\", <em>Towards Data Science</em> (12 July 2020)</li>\n",
        " </ul>\n",
        " </blockquote>\n",
        " \n",
        "Q13: After working through the previous steps, export your notebook for this lab as a PDF. Submit both the Jupyter Notebook (.ipynb) and PDF file on Canvas.\n",
        "- NOTE: If working in Google Colaboratory, also submit a link/URL to your notebook as a comment or additional submission. Be sure to update sharing permissions (`Share`, top-right hand corner)\n",
        "\n",
        "Q14: Describe and compare your experience working in different Python IDEs. What seems appealing about each? What seems challenging? Based on this experience, what are some of your preferences, or are there situations in which you'd prefer a specific IDE (or Python authoring environment)?"
      ],
      "metadata": {
        "id": "VTsG-phQGeUk"
      }
    },
    {
      "cell_type": "markdown",
      "source": [
        "# How to Submit This Lab (and show your work)\n",
        "\n",
        "Moving forward, we're going to be submitting lab notebooks using the provide Jupyter Notebook template ([link for this lab's template](https://colab.research.google.com/drive/13XsSSsqt3AmjLYKjdTn0pvQ1406anah3?usp=sharing)).\n",
        "- If working in JupyterLab (or another desktop IDE), download the `.ipynb` file to your local computer\n",
        "  * `File` - `Download` - `Download as .ipynb`\n",
        "- If working in Google Colaboratory, MAKE SURE you save a copy to your local drive. Otherwise your changes will not be saved.\n",
        "  * `File` - `Save a copy in Drive`\n",
        "\n",
        "The lab notebook template includes all of the questions as well as pre-created markdown cells for narrative text answers and pre-created code cells for any programs you may need to create. \n",
        "- Double click on these cells to edit and add your own content\n",
        "- If questions do not require a code component, you can ignore those cells\n",
        "- If questions to not require a narrative component, you can ignore those cells\n",
        "\n",
        "If working in JupyterLab or another desktop IDE, upload the lab notebook template `.ipynb` file to Canvas as your lab submission.\n",
        "- NOTE: This lab also asks you to upload a PDF version of this notebook. You are welcome, but not required, to do that moving forward.\n",
        "\n",
        "If working in Google Colaboratory, submit the link to your notebook (checking sharing permissions, similar with Google Docs) AS WELL AS the `.ipyb` file"
      ],
      "metadata": {
        "id": "abG4D-jIGfiM"
      }
    },
    {
      "cell_type": "markdown",
      "source": [
        "# Lab Notebook Questions\n",
        "\n",
        "[Click here](https://colab.research.google.com/drive/13XsSSsqt3AmjLYKjdTn0pvQ1406anah3?usp=sharing) to access the lab notebook template as a Jupyter Notebook (Google CoLab, ND Users).\n",
        "\n",
        "To download the notebok from Google Colaboratory (as a `.ipynb` file): `File` (top-left corner) -> `Download` -> `Download as .ipynb`. Once you have downloaded the file on your local computer, you can move it into a designated folder for this lab/class.\n",
        "\n",
        "Q1: Work through the <a href=\"https://docs.spyder-ide.org/current/videos/first-steps-with-spyder.html\">\"First Steps with Spyder\"</a>resources provided in the Spyder documentation. That includes two 3.5 minute videos that introduce you to the basics of the Spyder IDE and how to get started with Python in Spyder. Describe your experience getting  started with Spyder using  these materials/resources.\n",
        "\n",
        "Q2: How is Spyder different than previous IDEs? What do you see as strengths/advantages? What do you see as possible challenges?\n",
        "\n",
        "Q3: What type of error does this program return (syntax, runtime, semantic) and why? How would we go about modifying the program to address this error?\n"
      ],
      "metadata": {
        "id": "YwcH0AVxGg9p"
      }
    },
    {
      "cell_type": "code",
      "source": [
        "# function definition\n",
        "def printNTimes(message, x):\n",
        " for x in range(x):\n",
        "  print(message)\n",
        "\n",
        "# get inputs\n",
        "phrase = input(\"Enter your message here: \") # input statement for string\n",
        "times = int(input(\"How many times do you want this statement to print? Enter a number value.\")) # input statement for number of times\n",
        "\n",
        "# function call\n",
        "printNTimes(message, x)"
      ],
      "metadata": {
        "id": "gwneHplZGhyl"
      },
      "execution_count": null,
      "outputs": []
    },
    {
      "cell_type": "markdown",
      "source": [
        "Q4: Take a `.py` file from a previous lab and load it into Spyder. Explore how the program runs in a different IDE. In particular, explore Spyder's options to run portions or a selection of the larger program. How does this change the way you interact with the program?\n",
        "\n",
        "Q5: What happens when we run this program? What kinds of log messages do we get, and what information do they give us?\n",
        "\n",
        "Q6: Is this program doing what we expect? Where would you go next with debugging or addressing the error?\n",
        "\n",
        "Q7: What are your thoughts on this approach to identifying what's happening in your program? What seems appealing? What seems challenging? When or how could this approach be useful?\n",
        "\n",
        "Q8: Compare your experience working in Spyder to your experience working in Replit (or another Python IDE). What seems appealing about each? What seems challenging? Based on this experience, what is your preference, or are there situations in which you'd prefer one over the other?\n",
        "\n",
        "Q9: In a markdown cell, add text that includes the following style or formatting components:\n",
        "- Heading (h1, h2, h3, etc)\n",
        "- Italics or bold text formatting\n",
        "- Unordered (or bulleted point) list\n",
        "- Link\n",
        "\n",
        "NOTE: You will want to reference Adam Pritchard's <a href=\"https://github.com/adam-p/markdown-here/wiki/Markdown-Cheatsheet\">Markdown Cheatsheet</a> resource when working on this question.\n",
        "\n",
        "Q10: In a code cell, write a simple Python program (or programs) that includes the following functions:\n",
        "- `input()`\n",
        "- `print()`\n",
        "\n",
        "You are welcome to use a program (or programs) you've written for previous labs- original code is not required for this question. The main point for this question is to see how a Jupyter Notebook code cell executes a program.\n",
        "\n",
        "Q11: Use the Anaconda or JupyterLab terminal to install the four libraries mentioned in step 55 (numpy, scikit-learn, pandas, matplotlib). Describe your experience installing these libraries using the available/provided documentation. What did you expect to happen? What challenges did you face? How did you solve them?\n",
        "\n",
        "Q12: Write import statements for each of the libraries you installed in Q10. What did you expect to happen? What challenges did you face (if any)?\n",
        "\n",
        "Q13: After working through the previous steps, export your notebook for this lab as a PDF. Submit both the Jupyter Notebook (.ipynb) and PDF file on Canvas.\n",
        "- NOTE: If working in Google Colaboratory, also submit a link/URL to your notebook as a comment or additional submission. Be sure to update sharing permissions (`Share`, top-right hand corner)\n",
        "\n",
        "Q14: Describe and compare your experience working in different Python IDEs. What seems appealing about each? What seems challenging? Based on this experience, what are some of your preferences, or are there situations in which you'd prefer a specific IDE (or Python authoring environment)"
      ],
      "metadata": {
        "id": "CRcUDjaRGjS6"
      }
    }
  ]
}